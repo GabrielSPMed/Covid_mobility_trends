{
 "cells": [
  {
   "cell_type": "code",
   "execution_count": 217,
   "metadata": {},
   "outputs": [],
   "source": [
    "import pandas as pd\n",
    "import numpy as np\n",
    "import matplotlib.pyplot as plt"
   ]
  },
  {
   "cell_type": "code",
   "execution_count": 218,
   "metadata": {},
   "outputs": [],
   "source": [
    "filename = 'worldometer_coronavirus_daily_data.csv'\n",
    "df = pd.read_csv(filename)\n",
    "mob_df = pd.read_csv('mobility trends datasets/country.csv')\n",
    "#https://www.kaggle.com/josephassaker/covid19-global-dataset"
   ]
  },
  {
   "cell_type": "code",
   "execution_count": 219,
   "metadata": {},
   "outputs": [
    {
     "data": {
      "text/html": [
       "<div>\n",
       "<style scoped>\n",
       "    .dataframe tbody tr th:only-of-type {\n",
       "        vertical-align: middle;\n",
       "    }\n",
       "\n",
       "    .dataframe tbody tr th {\n",
       "        vertical-align: top;\n",
       "    }\n",
       "\n",
       "    .dataframe thead th {\n",
       "        text-align: right;\n",
       "    }\n",
       "</style>\n",
       "<table border=\"1\" class=\"dataframe\">\n",
       "  <thead>\n",
       "    <tr style=\"text-align: right;\">\n",
       "      <th></th>\n",
       "      <th>date</th>\n",
       "      <th>country</th>\n",
       "      <th>cumulative_total_cases</th>\n",
       "      <th>daily_new_cases</th>\n",
       "      <th>active_cases</th>\n",
       "      <th>cumulative_total_deaths</th>\n",
       "      <th>daily_new_deaths</th>\n",
       "    </tr>\n",
       "  </thead>\n",
       "  <tbody>\n",
       "    <tr>\n",
       "      <th>0</th>\n",
       "      <td>2020-2-15</td>\n",
       "      <td>Afghanistan</td>\n",
       "      <td>0.0</td>\n",
       "      <td>NaN</td>\n",
       "      <td>0.0</td>\n",
       "      <td>0.0</td>\n",
       "      <td>NaN</td>\n",
       "    </tr>\n",
       "    <tr>\n",
       "      <th>1</th>\n",
       "      <td>2020-2-16</td>\n",
       "      <td>Afghanistan</td>\n",
       "      <td>0.0</td>\n",
       "      <td>NaN</td>\n",
       "      <td>0.0</td>\n",
       "      <td>0.0</td>\n",
       "      <td>NaN</td>\n",
       "    </tr>\n",
       "    <tr>\n",
       "      <th>2</th>\n",
       "      <td>2020-2-17</td>\n",
       "      <td>Afghanistan</td>\n",
       "      <td>0.0</td>\n",
       "      <td>NaN</td>\n",
       "      <td>0.0</td>\n",
       "      <td>0.0</td>\n",
       "      <td>NaN</td>\n",
       "    </tr>\n",
       "    <tr>\n",
       "      <th>3</th>\n",
       "      <td>2020-2-18</td>\n",
       "      <td>Afghanistan</td>\n",
       "      <td>0.0</td>\n",
       "      <td>NaN</td>\n",
       "      <td>0.0</td>\n",
       "      <td>0.0</td>\n",
       "      <td>NaN</td>\n",
       "    </tr>\n",
       "    <tr>\n",
       "      <th>4</th>\n",
       "      <td>2020-2-19</td>\n",
       "      <td>Afghanistan</td>\n",
       "      <td>0.0</td>\n",
       "      <td>NaN</td>\n",
       "      <td>0.0</td>\n",
       "      <td>0.0</td>\n",
       "      <td>NaN</td>\n",
       "    </tr>\n",
       "    <tr>\n",
       "      <th>...</th>\n",
       "      <td>...</td>\n",
       "      <td>...</td>\n",
       "      <td>...</td>\n",
       "      <td>...</td>\n",
       "      <td>...</td>\n",
       "      <td>...</td>\n",
       "      <td>...</td>\n",
       "    </tr>\n",
       "    <tr>\n",
       "      <th>84115</th>\n",
       "      <td>2021-2-28</td>\n",
       "      <td>Zimbabwe</td>\n",
       "      <td>36089.0</td>\n",
       "      <td>31.0</td>\n",
       "      <td>1960.0</td>\n",
       "      <td>1463.0</td>\n",
       "      <td>0.0</td>\n",
       "    </tr>\n",
       "    <tr>\n",
       "      <th>84116</th>\n",
       "      <td>2021-3-01</td>\n",
       "      <td>Zimbabwe</td>\n",
       "      <td>36115.0</td>\n",
       "      <td>26.0</td>\n",
       "      <td>1742.0</td>\n",
       "      <td>1468.0</td>\n",
       "      <td>5.0</td>\n",
       "    </tr>\n",
       "    <tr>\n",
       "      <th>84117</th>\n",
       "      <td>2021-3-02</td>\n",
       "      <td>Zimbabwe</td>\n",
       "      <td>36148.0</td>\n",
       "      <td>33.0</td>\n",
       "      <td>1687.0</td>\n",
       "      <td>1472.0</td>\n",
       "      <td>4.0</td>\n",
       "    </tr>\n",
       "    <tr>\n",
       "      <th>84118</th>\n",
       "      <td>2021-3-03</td>\n",
       "      <td>Zimbabwe</td>\n",
       "      <td>36179.0</td>\n",
       "      <td>31.0</td>\n",
       "      <td>1309.0</td>\n",
       "      <td>1478.0</td>\n",
       "      <td>6.0</td>\n",
       "    </tr>\n",
       "    <tr>\n",
       "      <th>84119</th>\n",
       "      <td>2021-3-04</td>\n",
       "      <td>Zimbabwe</td>\n",
       "      <td>36223.0</td>\n",
       "      <td>44.0</td>\n",
       "      <td>1108.0</td>\n",
       "      <td>1483.0</td>\n",
       "      <td>5.0</td>\n",
       "    </tr>\n",
       "  </tbody>\n",
       "</table>\n",
       "<p>84120 rows × 7 columns</p>\n",
       "</div>"
      ],
      "text/plain": [
       "            date      country  cumulative_total_cases  daily_new_cases  \\\n",
       "0      2020-2-15  Afghanistan                     0.0              NaN   \n",
       "1      2020-2-16  Afghanistan                     0.0              NaN   \n",
       "2      2020-2-17  Afghanistan                     0.0              NaN   \n",
       "3      2020-2-18  Afghanistan                     0.0              NaN   \n",
       "4      2020-2-19  Afghanistan                     0.0              NaN   \n",
       "...          ...          ...                     ...              ...   \n",
       "84115  2021-2-28     Zimbabwe                 36089.0             31.0   \n",
       "84116  2021-3-01     Zimbabwe                 36115.0             26.0   \n",
       "84117  2021-3-02     Zimbabwe                 36148.0             33.0   \n",
       "84118  2021-3-03     Zimbabwe                 36179.0             31.0   \n",
       "84119  2021-3-04     Zimbabwe                 36223.0             44.0   \n",
       "\n",
       "       active_cases  cumulative_total_deaths  daily_new_deaths  \n",
       "0               0.0                      0.0               NaN  \n",
       "1               0.0                      0.0               NaN  \n",
       "2               0.0                      0.0               NaN  \n",
       "3               0.0                      0.0               NaN  \n",
       "4               0.0                      0.0               NaN  \n",
       "...             ...                      ...               ...  \n",
       "84115        1960.0                   1463.0               0.0  \n",
       "84116        1742.0                   1468.0               5.0  \n",
       "84117        1687.0                   1472.0               4.0  \n",
       "84118        1309.0                   1478.0               6.0  \n",
       "84119        1108.0                   1483.0               5.0  \n",
       "\n",
       "[84120 rows x 7 columns]"
      ]
     },
     "execution_count": 219,
     "metadata": {},
     "output_type": "execute_result"
    }
   ],
   "source": [
    "df"
   ]
  },
  {
   "cell_type": "markdown",
   "metadata": {},
   "source": [
    "### First we eliminate the countries that we won't use"
   ]
  },
  {
   "cell_type": "code",
   "execution_count": 220,
   "metadata": {},
   "outputs": [
    {
     "data": {
      "text/plain": [
       "{'Antigua and Barbuda',\n",
       " 'Bosnia and Herzegovina',\n",
       " 'Cape Verde',\n",
       " 'Czechia',\n",
       " \"Côte d'Ivoire\",\n",
       " 'Hong Kong',\n",
       " 'North Macedonia',\n",
       " 'Puerto Rico',\n",
       " 'The Bahamas',\n",
       " 'Trinidad and Tobago',\n",
       " 'United Kingdom',\n",
       " 'United States',\n",
       " 'Vietnam'}"
      ]
     },
     "execution_count": 220,
     "metadata": {},
     "output_type": "execute_result"
    }
   ],
   "source": [
    "setmob = set(mob_df.country.unique())\n",
    "setcov = set(df.country.unique())\n",
    "setmob-setcov"
   ]
  },
  {
   "cell_type": "markdown",
   "metadata": {},
   "source": [
    "These are the countries that are unique to the mobility database. As we can see, a few naming problems."
   ]
  },
  {
   "cell_type": "code",
   "execution_count": 221,
   "metadata": {},
   "outputs": [],
   "source": [
    "df = df.replace('USA', 'United States')\n",
    "df = df.replace('UK', 'United Kingdom')\n",
    "df = df.replace('Viet Nam', 'Vietnam')\n",
    "df = df.replace(\"Cote D Ivoire\", \"Côte d'Ivoire\")\n",
    "df = df.replace('Czech Republic', 'Czechia')\n",
    "df = df.replace('Bahamas', 'The Bahamas')\n",
    "df = df.replace('China Hong Kong Sar', 'Hong Kong')\n",
    "df = df.replace('Trinidad And Tobago', 'Trinidad and Tobago')"
   ]
  },
  {
   "cell_type": "markdown",
   "metadata": {},
   "source": [
    "After equating the misnamed countries, these remain:"
   ]
  },
  {
   "cell_type": "code",
   "execution_count": 222,
   "metadata": {},
   "outputs": [
    {
     "data": {
      "text/plain": [
       "{'Antigua and Barbuda',\n",
       " 'Bosnia and Herzegovina',\n",
       " 'Cape Verde',\n",
       " 'North Macedonia',\n",
       " 'Puerto Rico'}"
      ]
     },
     "execution_count": 222,
     "metadata": {},
     "output_type": "execute_result"
    }
   ],
   "source": [
    "setmob = set(mob_df.country.unique())\n",
    "setcov = set(df.country.unique())\n",
    "setmob-setcov"
   ]
  },
  {
   "cell_type": "code",
   "execution_count": 223,
   "metadata": {},
   "outputs": [],
   "source": [
    "country_mask_covid = df.country.isin(mob_df.country.unique())\n",
    "country_mask_mobility = mob_df.country.isin(df.country.unique())\n",
    "df = df.loc[country_mask_covid]\n",
    "mob_df = mob_df.loc[country_mask_mobility]\n",
    "mob_df = mob_df.reset_index().drop(['index'], axis=1)"
   ]
  },
  {
   "cell_type": "code",
   "execution_count": 224,
   "metadata": {},
   "outputs": [],
   "source": [
    "for i in df.country.unique():\n",
    "    df.loc[df.country==i] = df.loc[df.country==i].interpolate()"
   ]
  },
  {
   "cell_type": "markdown",
   "metadata": {},
   "source": [
    "### Then we treat for dates\n",
    "\n",
    "These are the maximum and minimum dates for our mobility dataset"
   ]
  },
  {
   "cell_type": "code",
   "execution_count": 225,
   "metadata": {},
   "outputs": [
    {
     "data": {
      "text/plain": [
       "'2021-02-23'"
      ]
     },
     "execution_count": 225,
     "metadata": {},
     "output_type": "execute_result"
    }
   ],
   "source": [
    "max(mob_df.date)"
   ]
  },
  {
   "cell_type": "code",
   "execution_count": 226,
   "metadata": {},
   "outputs": [
    {
     "data": {
      "text/plain": [
       "'2020-09-11'"
      ]
     },
     "execution_count": 226,
     "metadata": {},
     "output_type": "execute_result"
    }
   ],
   "source": [
    "min(mob_df.date)"
   ]
  },
  {
   "cell_type": "code",
   "execution_count": 227,
   "metadata": {},
   "outputs": [],
   "source": [
    "df.loc[:,'date']=pd.to_datetime(df['date']).values"
   ]
  },
  {
   "cell_type": "code",
   "execution_count": 228,
   "metadata": {},
   "outputs": [],
   "source": [
    "df = df.loc[df['date']>=np.datetime64('2020-09-11').astype('datetime64[ns]')]\n",
    "df = df.loc[df['date']<=np.datetime64('2021-02-23').astype('datetime64[ns]')]\n",
    "df = df.reset_index()\n",
    "df = df.drop(['index'], axis=1)"
   ]
  },
  {
   "cell_type": "markdown",
   "metadata": {},
   "source": [
    "Now we check for the dataset length to see if everything is alright"
   ]
  },
  {
   "cell_type": "code",
   "execution_count": 229,
   "metadata": {},
   "outputs": [
    {
     "data": {
      "text/plain": [
       "17098"
      ]
     },
     "execution_count": 229,
     "metadata": {},
     "output_type": "execute_result"
    }
   ],
   "source": [
    "len(df)"
   ]
  },
  {
   "cell_type": "code",
   "execution_count": 230,
   "metadata": {},
   "outputs": [
    {
     "data": {
      "text/plain": [
       "17098"
      ]
     },
     "execution_count": 230,
     "metadata": {},
     "output_type": "execute_result"
    }
   ],
   "source": [
    "len(mob_df)"
   ]
  },
  {
   "cell_type": "markdown",
   "metadata": {},
   "source": [
    "### Now the NaNs"
   ]
  },
  {
   "cell_type": "code",
   "execution_count": 231,
   "metadata": {},
   "outputs": [
    {
     "data": {
      "text/plain": [
       "date                         0\n",
       "country                      0\n",
       "cumulative_total_cases       0\n",
       "daily_new_cases              0\n",
       "active_cases               332\n",
       "cumulative_total_deaths    332\n",
       "daily_new_deaths           442\n",
       "dtype: int64"
      ]
     },
     "execution_count": 231,
     "metadata": {},
     "output_type": "execute_result"
    }
   ],
   "source": [
    "df.isna().sum()"
   ]
  },
  {
   "cell_type": "code",
   "execution_count": 232,
   "metadata": {},
   "outputs": [
    {
     "data": {
      "text/plain": [
       "array(['Cambodia', 'Laos', 'Mongolia', 'Netherlands', 'Sweden'],\n",
       "      dtype=object)"
      ]
     },
     "execution_count": 232,
     "metadata": {},
     "output_type": "execute_result"
    }
   ],
   "source": [
    "aux = df[df.isnull().any(axis=1)]\n",
    "aux.country.unique()"
   ]
  },
  {
   "cell_type": "markdown",
   "metadata": {},
   "source": [
    "Mongolia has NaNs on daily new deaths, but cumulative deaths show their first death is after the string of NaNs. So it must be filled with 0"
   ]
  },
  {
   "cell_type": "code",
   "execution_count": 233,
   "metadata": {},
   "outputs": [],
   "source": [
    "df.loc[df.country=='Mongolia'] = df.loc[df.country=='Mongolia'].fillna(0)"
   ]
  },
  {
   "cell_type": "markdown",
   "metadata": {},
   "source": [
    "Laos and Cambodia don't have any information on the number of deceased, while Sweden and Netherlands don't have that information on the number of active cases. We should take those things into account when doing the regresssions, but I don't think we should eliminate these countries quite yet."
   ]
  },
  {
   "cell_type": "markdown",
   "metadata": {},
   "source": [
    "### Joining the dataframes\n",
    "\n",
    "I didn't know how to do this, so I reordered the countries and joined the dataframes. There certainly is a more efficient way to do this. "
   ]
  },
  {
   "cell_type": "code",
   "execution_count": 247,
   "metadata": {},
   "outputs": [],
   "source": [
    "auxdf = pd.DataFrame(columns = df.columns)\n",
    "auxmob = pd.DataFrame(columns = mob_df.columns)\n",
    "for i in mob_df.country.unique():\n",
    "    auxdf = auxdf.append(df.loc[df.country == i]).copy()\n",
    "    auxmob = auxmob.append(mob_df.loc[mob_df.country == i]).copy()\n",
    "auxdf = auxdf.reset_index().drop(['index'], axis=1)\n",
    "auxmob = auxmob.reset_index().drop(['index'], axis=1)\n",
    "df = auxmob.join(auxdf.drop(['date', 'country'], axis=1))"
   ]
  },
  {
   "cell_type": "code",
   "execution_count": 248,
   "metadata": {},
   "outputs": [
    {
     "data": {
      "text/html": [
       "<div>\n",
       "<style scoped>\n",
       "    .dataframe tbody tr th:only-of-type {\n",
       "        vertical-align: middle;\n",
       "    }\n",
       "\n",
       "    .dataframe tbody tr th {\n",
       "        vertical-align: top;\n",
       "    }\n",
       "\n",
       "    .dataframe thead th {\n",
       "        text-align: right;\n",
       "    }\n",
       "</style>\n",
       "<table border=\"1\" class=\"dataframe\">\n",
       "  <thead>\n",
       "    <tr style=\"text-align: right;\">\n",
       "      <th></th>\n",
       "      <th>country</th>\n",
       "      <th>date</th>\n",
       "      <th>recreation</th>\n",
       "      <th>grocery and pharmacy</th>\n",
       "      <th>parks</th>\n",
       "      <th>transit</th>\n",
       "      <th>workplaces</th>\n",
       "      <th>residential</th>\n",
       "      <th>cumulative_total_cases</th>\n",
       "      <th>daily_new_cases</th>\n",
       "      <th>active_cases</th>\n",
       "      <th>cumulative_total_deaths</th>\n",
       "      <th>daily_new_deaths</th>\n",
       "    </tr>\n",
       "  </thead>\n",
       "  <tbody>\n",
       "    <tr>\n",
       "      <th>0</th>\n",
       "      <td>United Arab Emirates</td>\n",
       "      <td>2020-09-11</td>\n",
       "      <td>-27.0</td>\n",
       "      <td>-8.0</td>\n",
       "      <td>-48.0</td>\n",
       "      <td>-45.0</td>\n",
       "      <td>-16.0</td>\n",
       "      <td>9.0</td>\n",
       "      <td>77842.0</td>\n",
       "      <td>931.0</td>\n",
       "      <td>8982.0</td>\n",
       "      <td>398.0</td>\n",
       "      <td>0.0</td>\n",
       "    </tr>\n",
       "    <tr>\n",
       "      <th>1</th>\n",
       "      <td>United Arab Emirates</td>\n",
       "      <td>2020-09-12</td>\n",
       "      <td>-22.0</td>\n",
       "      <td>-3.0</td>\n",
       "      <td>-39.0</td>\n",
       "      <td>-42.0</td>\n",
       "      <td>-13.0</td>\n",
       "      <td>7.0</td>\n",
       "      <td>78849.0</td>\n",
       "      <td>1007.0</td>\n",
       "      <td>9467.0</td>\n",
       "      <td>399.0</td>\n",
       "      <td>1.0</td>\n",
       "    </tr>\n",
       "    <tr>\n",
       "      <th>2</th>\n",
       "      <td>United Arab Emirates</td>\n",
       "      <td>2020-09-13</td>\n",
       "      <td>-19.0</td>\n",
       "      <td>0.0</td>\n",
       "      <td>-32.0</td>\n",
       "      <td>-39.0</td>\n",
       "      <td>-20.0</td>\n",
       "      <td>9.0</td>\n",
       "      <td>79489.0</td>\n",
       "      <td>640.0</td>\n",
       "      <td>9639.0</td>\n",
       "      <td>399.0</td>\n",
       "      <td>0.0</td>\n",
       "    </tr>\n",
       "    <tr>\n",
       "      <th>3</th>\n",
       "      <td>United Arab Emirates</td>\n",
       "      <td>2020-09-14</td>\n",
       "      <td>-22.0</td>\n",
       "      <td>-4.0</td>\n",
       "      <td>-36.0</td>\n",
       "      <td>-40.0</td>\n",
       "      <td>-19.0</td>\n",
       "      <td>10.0</td>\n",
       "      <td>80266.0</td>\n",
       "      <td>777.0</td>\n",
       "      <td>9886.0</td>\n",
       "      <td>399.0</td>\n",
       "      <td>0.0</td>\n",
       "    </tr>\n",
       "    <tr>\n",
       "      <th>4</th>\n",
       "      <td>United Arab Emirates</td>\n",
       "      <td>2020-09-15</td>\n",
       "      <td>-22.0</td>\n",
       "      <td>-4.0</td>\n",
       "      <td>-36.0</td>\n",
       "      <td>-40.0</td>\n",
       "      <td>-19.0</td>\n",
       "      <td>10.0</td>\n",
       "      <td>80940.0</td>\n",
       "      <td>674.0</td>\n",
       "      <td>9904.0</td>\n",
       "      <td>401.0</td>\n",
       "      <td>2.0</td>\n",
       "    </tr>\n",
       "    <tr>\n",
       "      <th>...</th>\n",
       "      <td>...</td>\n",
       "      <td>...</td>\n",
       "      <td>...</td>\n",
       "      <td>...</td>\n",
       "      <td>...</td>\n",
       "      <td>...</td>\n",
       "      <td>...</td>\n",
       "      <td>...</td>\n",
       "      <td>...</td>\n",
       "      <td>...</td>\n",
       "      <td>...</td>\n",
       "      <td>...</td>\n",
       "      <td>...</td>\n",
       "    </tr>\n",
       "    <tr>\n",
       "      <th>17093</th>\n",
       "      <td>Zimbabwe</td>\n",
       "      <td>2021-02-19</td>\n",
       "      <td>-20.0</td>\n",
       "      <td>6.0</td>\n",
       "      <td>-15.0</td>\n",
       "      <td>-29.0</td>\n",
       "      <td>-23.0</td>\n",
       "      <td>11.0</td>\n",
       "      <td>35710.0</td>\n",
       "      <td>167.0</td>\n",
       "      <td>2308.0</td>\n",
       "      <td>1430.0</td>\n",
       "      <td>10.0</td>\n",
       "    </tr>\n",
       "    <tr>\n",
       "      <th>17094</th>\n",
       "      <td>Zimbabwe</td>\n",
       "      <td>2021-02-20</td>\n",
       "      <td>-21.0</td>\n",
       "      <td>10.0</td>\n",
       "      <td>-4.0</td>\n",
       "      <td>-30.0</td>\n",
       "      <td>-14.0</td>\n",
       "      <td>6.0</td>\n",
       "      <td>35768.0</td>\n",
       "      <td>58.0</td>\n",
       "      <td>2240.0</td>\n",
       "      <td>1432.0</td>\n",
       "      <td>2.0</td>\n",
       "    </tr>\n",
       "    <tr>\n",
       "      <th>17095</th>\n",
       "      <td>Zimbabwe</td>\n",
       "      <td>2021-02-21</td>\n",
       "      <td>-20.0</td>\n",
       "      <td>6.0</td>\n",
       "      <td>2.0</td>\n",
       "      <td>-33.0</td>\n",
       "      <td>-13.0</td>\n",
       "      <td>9.0</td>\n",
       "      <td>35796.0</td>\n",
       "      <td>28.0</td>\n",
       "      <td>2235.0</td>\n",
       "      <td>1436.0</td>\n",
       "      <td>4.0</td>\n",
       "    </tr>\n",
       "    <tr>\n",
       "      <th>17096</th>\n",
       "      <td>Zimbabwe</td>\n",
       "      <td>2021-02-22</td>\n",
       "      <td>-36.0</td>\n",
       "      <td>-15.0</td>\n",
       "      <td>-17.0</td>\n",
       "      <td>-43.0</td>\n",
       "      <td>-66.0</td>\n",
       "      <td>21.0</td>\n",
       "      <td>35862.0</td>\n",
       "      <td>66.0</td>\n",
       "      <td>2205.0</td>\n",
       "      <td>1441.0</td>\n",
       "      <td>5.0</td>\n",
       "    </tr>\n",
       "    <tr>\n",
       "      <th>17097</th>\n",
       "      <td>Zimbabwe</td>\n",
       "      <td>2021-02-23</td>\n",
       "      <td>-17.0</td>\n",
       "      <td>4.0</td>\n",
       "      <td>-12.0</td>\n",
       "      <td>-26.0</td>\n",
       "      <td>-20.0</td>\n",
       "      <td>10.0</td>\n",
       "      <td>35910.0</td>\n",
       "      <td>48.0</td>\n",
       "      <td>2174.0</td>\n",
       "      <td>1448.0</td>\n",
       "      <td>7.0</td>\n",
       "    </tr>\n",
       "  </tbody>\n",
       "</table>\n",
       "<p>17098 rows × 13 columns</p>\n",
       "</div>"
      ],
      "text/plain": [
       "                    country        date  recreation  grocery and pharmacy  \\\n",
       "0      United Arab Emirates  2020-09-11       -27.0                  -8.0   \n",
       "1      United Arab Emirates  2020-09-12       -22.0                  -3.0   \n",
       "2      United Arab Emirates  2020-09-13       -19.0                   0.0   \n",
       "3      United Arab Emirates  2020-09-14       -22.0                  -4.0   \n",
       "4      United Arab Emirates  2020-09-15       -22.0                  -4.0   \n",
       "...                     ...         ...         ...                   ...   \n",
       "17093              Zimbabwe  2021-02-19       -20.0                   6.0   \n",
       "17094              Zimbabwe  2021-02-20       -21.0                  10.0   \n",
       "17095              Zimbabwe  2021-02-21       -20.0                   6.0   \n",
       "17096              Zimbabwe  2021-02-22       -36.0                 -15.0   \n",
       "17097              Zimbabwe  2021-02-23       -17.0                   4.0   \n",
       "\n",
       "       parks  transit  workplaces  residential  cumulative_total_cases  \\\n",
       "0      -48.0    -45.0       -16.0          9.0                 77842.0   \n",
       "1      -39.0    -42.0       -13.0          7.0                 78849.0   \n",
       "2      -32.0    -39.0       -20.0          9.0                 79489.0   \n",
       "3      -36.0    -40.0       -19.0         10.0                 80266.0   \n",
       "4      -36.0    -40.0       -19.0         10.0                 80940.0   \n",
       "...      ...      ...         ...          ...                     ...   \n",
       "17093  -15.0    -29.0       -23.0         11.0                 35710.0   \n",
       "17094   -4.0    -30.0       -14.0          6.0                 35768.0   \n",
       "17095    2.0    -33.0       -13.0          9.0                 35796.0   \n",
       "17096  -17.0    -43.0       -66.0         21.0                 35862.0   \n",
       "17097  -12.0    -26.0       -20.0         10.0                 35910.0   \n",
       "\n",
       "       daily_new_cases  active_cases  cumulative_total_deaths  \\\n",
       "0                931.0        8982.0                    398.0   \n",
       "1               1007.0        9467.0                    399.0   \n",
       "2                640.0        9639.0                    399.0   \n",
       "3                777.0        9886.0                    399.0   \n",
       "4                674.0        9904.0                    401.0   \n",
       "...                ...           ...                      ...   \n",
       "17093            167.0        2308.0                   1430.0   \n",
       "17094             58.0        2240.0                   1432.0   \n",
       "17095             28.0        2235.0                   1436.0   \n",
       "17096             66.0        2205.0                   1441.0   \n",
       "17097             48.0        2174.0                   1448.0   \n",
       "\n",
       "       daily_new_deaths  \n",
       "0                   0.0  \n",
       "1                   1.0  \n",
       "2                   0.0  \n",
       "3                   0.0  \n",
       "4                   2.0  \n",
       "...                 ...  \n",
       "17093              10.0  \n",
       "17094               2.0  \n",
       "17095               4.0  \n",
       "17096               5.0  \n",
       "17097               7.0  \n",
       "\n",
       "[17098 rows x 13 columns]"
      ]
     },
     "execution_count": 248,
     "metadata": {},
     "output_type": "execute_result"
    }
   ],
   "source": [
    "df"
   ]
  },
  {
   "cell_type": "code",
   "execution_count": 249,
   "metadata": {},
   "outputs": [],
   "source": [
    "df.to_csv(r'finished_datasets/country.csv', index = False)"
   ]
  }
 ],
 "metadata": {
  "kernelspec": {
   "display_name": "Python 3",
   "language": "python",
   "name": "python3"
  },
  "language_info": {
   "codemirror_mode": {
    "name": "ipython",
    "version": 3
   },
   "file_extension": ".py",
   "mimetype": "text/x-python",
   "name": "python",
   "nbconvert_exporter": "python",
   "pygments_lexer": "ipython3",
   "version": "3.7.6"
  }
 },
 "nbformat": 4,
 "nbformat_minor": 4
}
